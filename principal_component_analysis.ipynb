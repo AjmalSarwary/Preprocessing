{
  "nbformat": 4,
  "nbformat_minor": 0,
  "metadata": {
    "colab": {
      "provenance": [],
      "authorship_tag": "ABX9TyO8I/OMowSQ3B54eatoi5lE",
      "include_colab_link": true
    },
    "kernelspec": {
      "name": "python3",
      "display_name": "Python 3"
    },
    "language_info": {
      "name": "python"
    }
  },
  "cells": [
    {
      "cell_type": "markdown",
      "metadata": {
        "id": "view-in-github",
        "colab_type": "text"
      },
      "source": [
        "<a href=\"https://colab.research.google.com/github/AjmalSarwary/Preprocessing/blob/main/principal_component_analysis.ipynb\" target=\"_parent\"><img src=\"https://colab.research.google.com/assets/colab-badge.svg\" alt=\"Open In Colab\"/></a>"
      ]
    },
    {
      "cell_type": "code",
      "execution_count": null,
      "metadata": {
        "colab": {
          "base_uri": "https://localhost:8080/"
        },
        "id": "VsgLkd_roIEN",
        "outputId": "7776b843-85dc-46ab-d3e1-446305a5675c"
      },
      "outputs": [
        {
          "output_type": "stream",
          "name": "stdout",
          "text": [
            "Mounted at /content/drive\n"
          ]
        }
      ],
      "source": [
        "from google.colab import drive\n",
        "drive.mount('/content/drive')"
      ]
    },
    {
      "cell_type": "markdown",
      "source": [
        "# Neuer Abschnitt"
      ],
      "metadata": {
        "id": "8hu2CnDVbN41"
      }
    },
    {
      "cell_type": "code",
      "source": [
        "import pandas as pd\n",
        "import numpy as np\n",
        "import random as rd\n",
        "from sklearn.decomposition import PCA\n",
        "from sklearn import preprocessing\n",
        "import matplotlib.pyplot as plt"
      ],
      "metadata": {
        "id": "piJMFvRZoLzU"
      },
      "execution_count": null,
      "outputs": []
    },
    {
      "cell_type": "code",
      "source": [
        "#Generate Array of 100 Gene Names\n",
        "genes = ['gene' + str(i) for i in range(1,101)]\n",
        "\n",
        "#Create Arrays of sample names 5 x wilde type (wt) and 5 x knock out (ko)\n",
        "wt = ['wt' +str(i) for i in range(1,6)]\n",
        "ko = ['ko' + str(i) for i in range(1,6)]\n",
        "\n",
        "data = pd.DataFrame(columns=[*wt, *ko], index=genes)\n",
        "\n",
        "for gene in data.index:\n",
        "  data.loc[gene,'wt1':'wt5']=np.random.poisson(lam=rd.randrange(10,1000), size=5)\n",
        "  data.loc[gene,'ko1':'ko5']=np.random.poisson(lam=rd.randrange(10,1000), size=5)\n",
        "\n",
        "print(data.shape)\n",
        "data.head()"
      ],
      "metadata": {
        "colab": {
          "base_uri": "https://localhost:8080/",
          "height": 224
        },
        "id": "uKBMNZQ2ouTP",
        "outputId": "2b91fd21-167c-429f-db51-add59cdabfa9"
      },
      "execution_count": null,
      "outputs": [
        {
          "output_type": "stream",
          "name": "stdout",
          "text": [
            "(100, 10)\n"
          ]
        },
        {
          "output_type": "execute_result",
          "data": {
            "text/plain": [
              "       wt1  wt2  wt3  wt4  wt5  ko1  ko2  ko3  ko4  ko5\n",
              "gene1  222  193  191  231  228  929  939  956  979  989\n",
              "gene2  827  841  849  803  900  654  641  678  617  671\n",
              "gene3  320  288  288  263  286  622  554  612  593  605\n",
              "gene4  912  917  935  977  885  906  830  866  892  907\n",
              "gene5  475  433  429  482  462  854  855  895  885  844"
            ],
            "text/html": [
              "\n",
              "  <div id=\"df-d085a0e5-415f-4686-9e75-27d3904ec377\">\n",
              "    <div class=\"colab-df-container\">\n",
              "      <div>\n",
              "<style scoped>\n",
              "    .dataframe tbody tr th:only-of-type {\n",
              "        vertical-align: middle;\n",
              "    }\n",
              "\n",
              "    .dataframe tbody tr th {\n",
              "        vertical-align: top;\n",
              "    }\n",
              "\n",
              "    .dataframe thead th {\n",
              "        text-align: right;\n",
              "    }\n",
              "</style>\n",
              "<table border=\"1\" class=\"dataframe\">\n",
              "  <thead>\n",
              "    <tr style=\"text-align: right;\">\n",
              "      <th></th>\n",
              "      <th>wt1</th>\n",
              "      <th>wt2</th>\n",
              "      <th>wt3</th>\n",
              "      <th>wt4</th>\n",
              "      <th>wt5</th>\n",
              "      <th>ko1</th>\n",
              "      <th>ko2</th>\n",
              "      <th>ko3</th>\n",
              "      <th>ko4</th>\n",
              "      <th>ko5</th>\n",
              "    </tr>\n",
              "  </thead>\n",
              "  <tbody>\n",
              "    <tr>\n",
              "      <th>gene1</th>\n",
              "      <td>222</td>\n",
              "      <td>193</td>\n",
              "      <td>191</td>\n",
              "      <td>231</td>\n",
              "      <td>228</td>\n",
              "      <td>929</td>\n",
              "      <td>939</td>\n",
              "      <td>956</td>\n",
              "      <td>979</td>\n",
              "      <td>989</td>\n",
              "    </tr>\n",
              "    <tr>\n",
              "      <th>gene2</th>\n",
              "      <td>827</td>\n",
              "      <td>841</td>\n",
              "      <td>849</td>\n",
              "      <td>803</td>\n",
              "      <td>900</td>\n",
              "      <td>654</td>\n",
              "      <td>641</td>\n",
              "      <td>678</td>\n",
              "      <td>617</td>\n",
              "      <td>671</td>\n",
              "    </tr>\n",
              "    <tr>\n",
              "      <th>gene3</th>\n",
              "      <td>320</td>\n",
              "      <td>288</td>\n",
              "      <td>288</td>\n",
              "      <td>263</td>\n",
              "      <td>286</td>\n",
              "      <td>622</td>\n",
              "      <td>554</td>\n",
              "      <td>612</td>\n",
              "      <td>593</td>\n",
              "      <td>605</td>\n",
              "    </tr>\n",
              "    <tr>\n",
              "      <th>gene4</th>\n",
              "      <td>912</td>\n",
              "      <td>917</td>\n",
              "      <td>935</td>\n",
              "      <td>977</td>\n",
              "      <td>885</td>\n",
              "      <td>906</td>\n",
              "      <td>830</td>\n",
              "      <td>866</td>\n",
              "      <td>892</td>\n",
              "      <td>907</td>\n",
              "    </tr>\n",
              "    <tr>\n",
              "      <th>gene5</th>\n",
              "      <td>475</td>\n",
              "      <td>433</td>\n",
              "      <td>429</td>\n",
              "      <td>482</td>\n",
              "      <td>462</td>\n",
              "      <td>854</td>\n",
              "      <td>855</td>\n",
              "      <td>895</td>\n",
              "      <td>885</td>\n",
              "      <td>844</td>\n",
              "    </tr>\n",
              "  </tbody>\n",
              "</table>\n",
              "</div>\n",
              "      <button class=\"colab-df-convert\" onclick=\"convertToInteractive('df-d085a0e5-415f-4686-9e75-27d3904ec377')\"\n",
              "              title=\"Convert this dataframe to an interactive table.\"\n",
              "              style=\"display:none;\">\n",
              "        \n",
              "  <svg xmlns=\"http://www.w3.org/2000/svg\" height=\"24px\"viewBox=\"0 0 24 24\"\n",
              "       width=\"24px\">\n",
              "    <path d=\"M0 0h24v24H0V0z\" fill=\"none\"/>\n",
              "    <path d=\"M18.56 5.44l.94 2.06.94-2.06 2.06-.94-2.06-.94-.94-2.06-.94 2.06-2.06.94zm-11 1L8.5 8.5l.94-2.06 2.06-.94-2.06-.94L8.5 2.5l-.94 2.06-2.06.94zm10 10l.94 2.06.94-2.06 2.06-.94-2.06-.94-.94-2.06-.94 2.06-2.06.94z\"/><path d=\"M17.41 7.96l-1.37-1.37c-.4-.4-.92-.59-1.43-.59-.52 0-1.04.2-1.43.59L10.3 9.45l-7.72 7.72c-.78.78-.78 2.05 0 2.83L4 21.41c.39.39.9.59 1.41.59.51 0 1.02-.2 1.41-.59l7.78-7.78 2.81-2.81c.8-.78.8-2.07 0-2.86zM5.41 20L4 18.59l7.72-7.72 1.47 1.35L5.41 20z\"/>\n",
              "  </svg>\n",
              "      </button>\n",
              "      \n",
              "  <style>\n",
              "    .colab-df-container {\n",
              "      display:flex;\n",
              "      flex-wrap:wrap;\n",
              "      gap: 12px;\n",
              "    }\n",
              "\n",
              "    .colab-df-convert {\n",
              "      background-color: #E8F0FE;\n",
              "      border: none;\n",
              "      border-radius: 50%;\n",
              "      cursor: pointer;\n",
              "      display: none;\n",
              "      fill: #1967D2;\n",
              "      height: 32px;\n",
              "      padding: 0 0 0 0;\n",
              "      width: 32px;\n",
              "    }\n",
              "\n",
              "    .colab-df-convert:hover {\n",
              "      background-color: #E2EBFA;\n",
              "      box-shadow: 0px 1px 2px rgba(60, 64, 67, 0.3), 0px 1px 3px 1px rgba(60, 64, 67, 0.15);\n",
              "      fill: #174EA6;\n",
              "    }\n",
              "\n",
              "    [theme=dark] .colab-df-convert {\n",
              "      background-color: #3B4455;\n",
              "      fill: #D2E3FC;\n",
              "    }\n",
              "\n",
              "    [theme=dark] .colab-df-convert:hover {\n",
              "      background-color: #434B5C;\n",
              "      box-shadow: 0px 1px 3px 1px rgba(0, 0, 0, 0.15);\n",
              "      filter: drop-shadow(0px 1px 2px rgba(0, 0, 0, 0.3));\n",
              "      fill: #FFFFFF;\n",
              "    }\n",
              "  </style>\n",
              "\n",
              "      <script>\n",
              "        const buttonEl =\n",
              "          document.querySelector('#df-d085a0e5-415f-4686-9e75-27d3904ec377 button.colab-df-convert');\n",
              "        buttonEl.style.display =\n",
              "          google.colab.kernel.accessAllowed ? 'block' : 'none';\n",
              "\n",
              "        async function convertToInteractive(key) {\n",
              "          const element = document.querySelector('#df-d085a0e5-415f-4686-9e75-27d3904ec377');\n",
              "          const dataTable =\n",
              "            await google.colab.kernel.invokeFunction('convertToInteractive',\n",
              "                                                     [key], {});\n",
              "          if (!dataTable) return;\n",
              "\n",
              "          const docLinkHtml = 'Like what you see? Visit the ' +\n",
              "            '<a target=\"_blank\" href=https://colab.research.google.com/notebooks/data_table.ipynb>data table notebook</a>'\n",
              "            + ' to learn more about interactive tables.';\n",
              "          element.innerHTML = '';\n",
              "          dataTable['output_type'] = 'display_data';\n",
              "          await google.colab.output.renderOutput(dataTable, element);\n",
              "          const docLink = document.createElement('div');\n",
              "          docLink.innerHTML = docLinkHtml;\n",
              "          element.appendChild(docLink);\n",
              "        }\n",
              "      </script>\n",
              "    </div>\n",
              "  </div>\n",
              "  "
            ]
          },
          "metadata": {},
          "execution_count": 17
        }
      ]
    },
    {
      "cell_type": "code",
      "source": [
        "#Center and Scale the data\n",
        "#after centering: the mean value for each gene will be 0\n",
        "#after scaling the stdev for the values for each gene will be 1\n",
        "#the scale function expects data to be in rows instead of columns\n",
        "\n",
        "scaled_data=preprocessing.scale(data.T)"
      ],
      "metadata": {
        "id": "ymgjqrGIr-8P"
      },
      "execution_count": null,
      "outputs": []
    },
    {
      "cell_type": "code",
      "source": [
        "pca = PCA()\n",
        "pca.fit(scaled_data)\n",
        "#next step creates coordinates for PCA graph based on loading scores and scaled data\n",
        "pca_data=pca.transform(scaled_data)"
      ],
      "metadata": {
        "id": "1ezW8DRtr3sK"
      },
      "execution_count": null,
      "outputs": []
    },
    {
      "cell_type": "code",
      "source": [
        "#scree plot to determine how many PCs should go into the final plot\n",
        "#1st calculate percentage of variation that each PC accounts for\n",
        "per_var = np.round(pca.explained_variance_ratio_ * 100, decimals=1)\n",
        "#labels for scree plot\n",
        "labels = ['PC' + str(x) for x in range(1, len(per_var)+1)]\n",
        "\n",
        "plt.bar(x=range(1,len(per_var)+1), height=per_var, tick_label=labels)\n",
        "plt.ylabel('Percentage of Explained Variance')\n",
        "plt.xlabel('Principal Component')\n",
        "plt.title('Scree Plot')\n",
        "plt.show()"
      ],
      "metadata": {
        "colab": {
          "base_uri": "https://localhost:8080/",
          "height": 472
        },
        "id": "5omZKHueuHJu",
        "outputId": "d402fae6-5133-48c1-d311-36fb37cc54dc"
      },
      "execution_count": null,
      "outputs": [
        {
          "output_type": "display_data",
          "data": {
            "text/plain": [
              "<Figure size 640x480 with 1 Axes>"
            ],
            "image/png": "[encoded data removed]"
          },
          "metadata": {}
        }
      ]
    },
    {
      "cell_type": "code",
      "source": [
        "#new coordinates matrix where rows have sample labels and columns have PC labels\n",
        "pca_df = pd.DataFrame(pca_data, index=[*wt, *ko], columns=labels)\n",
        "\n",
        "plt.scatter(pca_df.PC1, pca_df.PC2)\n",
        "plt.title('PCA Graph')\n",
        "plt.xlabel('PC1 - {0}%'.format(per_var[0]))\n",
        "plt.ylabel('PC2 - {0}%'.format(per_var[1]))\n",
        "\n",
        "#use loop to add sample names to the graph\n",
        "for sample in pca_df.index:\n",
        "  plt.annotate(sample, (pca_df.PC1.loc[sample], pca_df.PC2.loc[sample]))\n",
        "\n",
        "plt.show()"
      ],
      "metadata": {
        "colab": {
          "base_uri": "https://localhost:8080/",
          "height": 472
        },
        "id": "Yt58fXH5vdn7",
        "outputId": "b38d21d7-638c-41ce-999e-6aa8be40cd28"
      },
      "execution_count": null,
      "outputs": [
        {
          "output_type": "display_data",
          "data": {
            "text/plain": [
              "<Figure size 640x480 with 1 Axes>"
            ],
            "image/png": "[encoded data removed]"
          },
          "metadata": {}
        }
      ]
    },
    {
      "cell_type": "code",
      "source": [
        "#investigate the loading scores for PC1 to determine which gene had the largest influence on separating the two clusters along the x-axis\n",
        "loading_scores = pd.Series(pca.components_[0], index=genes)\n",
        "#magnitues sorted\n",
        "sorted_loading_scores=loading_scores.abs().sort_values(ascending=False)\n",
        "\n",
        "top_10_genes = sorted_loading_scores[0:10].index.values\n",
        "\n",
        "#if values are similar, means a lot of genes played a role in separating the sample, rather than just one or two\n",
        "loading_scores[top_10_genes]"
      ],
      "metadata": {
        "colab": {
          "base_uri": "https://localhost:8080/"
        },
        "id": "4zEB4tWVxenh",
        "outputId": "45499dd1-69da-408d-9143-ca3ce4ed22af"
      },
      "execution_count": null,
      "outputs": [
        {
          "output_type": "execute_result",
          "data": {
            "text/plain": [
              "gene69   -0.104584\n",
              "gene80    0.104575\n",
              "gene31    0.104567\n",
              "gene20    0.104525\n",
              "gene1    -0.104495\n",
              "gene16   -0.104493\n",
              "gene23   -0.104484\n",
              "gene42    0.104467\n",
              "gene50   -0.104464\n",
              "gene53   -0.104427\n",
              "dtype: float64"
            ]
          },
          "metadata": {},
          "execution_count": 22
        }
      ]
    }
  ]
}